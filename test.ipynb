{
 "cells": [
  {
   "cell_type": "code",
   "execution_count": 1,
   "metadata": {},
   "outputs": [],
   "source": [
    "import models"
   ]
  }
 ],
 "metadata": {
  "kernelspec": {
   "display_name": "hift",
   "language": "python",
   "name": "python3"
  },
  "language_info": {
   "codemirror_mode": {
    "name": "ipython",
    "version": 3
   },
   "file_extension": ".py",
   "mimetype": "text/x-python",
   "name": "python",
   "nbconvert_exporter": "python",
   "pygments_lexer": "ipython3",
   "version": "3.9.7"
  },
  "orig_nbformat": 4,
  "vscode": {
   "interpreter": {
    "hash": "d319828da578d9a499caaf80f17b10eafe09271b77e8e2a99a11ddcda4b403f2"
   }
  }
 },
 "nbformat": 4,
 "nbformat_minor": 2
}
